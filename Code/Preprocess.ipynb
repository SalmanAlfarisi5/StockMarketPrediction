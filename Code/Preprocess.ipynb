{
 "cells": [
  {
   "cell_type": "code",
   "execution_count": 1,
   "id": "8def94f3",
   "metadata": {},
   "outputs": [],
   "source": [
    "# Import necessary libraries\n",
    "import pandas as pd\n",
    "from datetime import datetime"
   ]
  },
  {
   "cell_type": "code",
   "execution_count": 2,
   "id": "c4663dd3",
   "metadata": {},
   "outputs": [
    {
     "name": "stdout",
     "output_type": "stream",
     "text": [
      "Company data shape: (524, 4)\n",
      "Stock data shape: (217811, 18)\n"
     ]
    }
   ],
   "source": [
    "# Read the CSV files into DataFrames\n",
    "company_df = pd.read_csv('../Data/company_info.csv')\n",
    "stock_df = pd.read_csv('../Data/company_stock_details.csv')\n",
    "\n",
    "print(f\"Company data shape: {company_df.shape}\")\n",
    "print(f\"Stock data shape: {stock_df.shape}\")"
   ]
  },
  {
   "cell_type": "code",
   "execution_count": 3,
   "id": "4d73ecd2",
   "metadata": {},
   "outputs": [
    {
     "name": "stdout",
     "output_type": "stream",
     "text": [
      "Number of rows in company with missing data: 0\n",
      "Number of rows in stock with missing data: 493\n",
      "Stock data shape after dropping missing rows: (217318, 18)\n"
     ]
    }
   ],
   "source": [
    "missing_company = company_df.isnull().any(axis=1).sum()\n",
    "print(f\"Number of rows in company with missing data: {missing_company}\")\n",
    "\n",
    "missing_stock = stock_df.isnull().any(axis=1).sum()\n",
    "print(f\"Number of rows in stock with missing data: {missing_stock}\")\n",
    "\n",
    "# Since the number of rows with missing data is small, we can drop them\n",
    "stock_df = stock_df.dropna()\n",
    "\n",
    "# confirming the number of rows after dropping missing data\n",
    "print(f\"Stock data shape after dropping missing rows: {stock_df.shape}\")"
   ]
  },
  {
   "cell_type": "code",
   "execution_count": 4,
   "id": "3be369a4",
   "metadata": {},
   "outputs": [
    {
     "name": "stdout",
     "output_type": "stream",
     "text": [
      "Symbol\n",
      "MMM     440\n",
      "NRG     440\n",
      "NLOK    440\n",
      "NOC     440\n",
      "NTRS    440\n",
      "       ... \n",
      "EMN     440\n",
      "DXC     440\n",
      "DD      440\n",
      "OGN     285\n",
      "CEG     113\n",
      "Name: count, Length: 495, dtype: int64\n",
      "Number of unique companies in company DataFrame: 497\n"
     ]
    }
   ],
   "source": [
    "# Count the number of unique companies with the frequencies of their stock data\n",
    "print(stock_df['Symbol'].value_counts())\n",
    "# Count the number of unique companies in the company DataFrame\n",
    "print(f\"Number of unique companies in company DataFrame: {company_df['Symbol'].nunique()}\")"
   ]
  },
  {
   "cell_type": "code",
   "execution_count": 5,
   "id": "cc6ad2cb",
   "metadata": {},
   "outputs": [
    {
     "name": "stdout",
     "output_type": "stream",
     "text": [
      "Merged DataFrame shape: (229198, 21)\n",
      "Number of rows in merged DataFrame with missing data: 0\n"
     ]
    }
   ],
   "source": [
    "# Let's merge the two DataFrames on the 'Symbol' column\n",
    "merged_df = pd.merge(company_df, stock_df, on='Symbol', how='inner')\n",
    "\n",
    "# check the shape of the merged DataFrame\n",
    "print(f\"Merged DataFrame shape: {merged_df.shape}\")\n",
    "\n",
    "# check for missing values in the merged DataFrame\n",
    "missing_merged = merged_df.isnull().any(axis=1).sum()\n",
    "print(f\"Number of rows in merged DataFrame with missing data: {missing_merged}\")\n",
    "\n",
    "# Remove duplicate rows\n",
    "merged_df = merged_df.drop_duplicates()"
   ]
  },
  {
   "cell_type": "code",
   "execution_count": 6,
   "id": "401b640b",
   "metadata": {},
   "outputs": [
    {
     "name": "stdout",
     "output_type": "stream",
     "text": [
      "Date\n",
      "%d/%m/%Y    217318\n",
      "Name: count, dtype: int64\n"
     ]
    }
   ],
   "source": [
    "def detect_format(date_str):\n",
    "    # Try a list of common formats\n",
    "    formats = [\n",
    "        \"%Y-%m-%d\", \"%d-%m-%Y\", \"%m-%d-%Y\",\n",
    "        \"%d/%m/%Y\", \"%m/%d/%Y\", \"%Y/%m/%d\",\n",
    "        \"%Y.%m.%d\", \"%d.%m.%Y\", \"%m.%d.%Y\"\n",
    "    ]\n",
    "    for fmt in formats:\n",
    "        try:\n",
    "            datetime.strptime(date_str, fmt)\n",
    "            return fmt\n",
    "        except ValueError:\n",
    "            continue\n",
    "    return \"Unknown format\"\n",
    "\n",
    "# Ensure all entries are strings\n",
    "date_strings = merged_df['Date'].dropna()\n",
    "\n",
    "# Apply format detection and count\n",
    "format_counts = date_strings.apply(detect_format).value_counts()\n",
    "\n",
    "# Display the result\n",
    "print(format_counts)"
   ]
  },
  {
   "cell_type": "code",
   "execution_count": 7,
   "id": "44b752d4",
   "metadata": {},
   "outputs": [
    {
     "data": {
      "text/html": [
       "<div>\n",
       "<style scoped>\n",
       "    .dataframe tbody tr th:only-of-type {\n",
       "        vertical-align: middle;\n",
       "    }\n",
       "\n",
       "    .dataframe tbody tr th {\n",
       "        vertical-align: top;\n",
       "    }\n",
       "\n",
       "    .dataframe thead th {\n",
       "        text-align: right;\n",
       "    }\n",
       "</style>\n",
       "<table border=\"1\" class=\"dataframe\">\n",
       "  <thead>\n",
       "    <tr style=\"text-align: right;\">\n",
       "      <th></th>\n",
       "      <th>Symbol</th>\n",
       "      <th>GICS Sector</th>\n",
       "      <th>Headquarters Location</th>\n",
       "      <th>Founded</th>\n",
       "      <th>Date</th>\n",
       "      <th>Close</th>\n",
       "      <th>Volume</th>\n",
       "      <th>News - Positive Sentiment</th>\n",
       "      <th>News - Negative Sentiment</th>\n",
       "      <th>News - New Products</th>\n",
       "      <th>...</th>\n",
       "      <th>Close_lag1</th>\n",
       "      <th>Close_lag2</th>\n",
       "      <th>Close_lag3</th>\n",
       "      <th>Close_lag4</th>\n",
       "      <th>Close_lag5</th>\n",
       "      <th>Close_lag6</th>\n",
       "      <th>Close_lag7</th>\n",
       "      <th>Close_lag8</th>\n",
       "      <th>Close_lag9</th>\n",
       "      <th>Close_lag10</th>\n",
       "    </tr>\n",
       "  </thead>\n",
       "  <tbody>\n",
       "    <tr>\n",
       "      <th>0</th>\n",
       "      <td>A</td>\n",
       "      <td>Health Care</td>\n",
       "      <td>Santa Clara, California</td>\n",
       "      <td>1999</td>\n",
       "      <td>2020-10-15</td>\n",
       "      <td>105.320000</td>\n",
       "      <td>723000</td>\n",
       "      <td>1.0</td>\n",
       "      <td>0.0</td>\n",
       "      <td>0.0</td>\n",
       "      <td>...</td>\n",
       "      <td>105.059998</td>\n",
       "      <td>105.419998</td>\n",
       "      <td>105.430000</td>\n",
       "      <td>105.760002</td>\n",
       "      <td>104.160004</td>\n",
       "      <td>103.879997</td>\n",
       "      <td>101.629997</td>\n",
       "      <td>103.120003</td>\n",
       "      <td>100.010002</td>\n",
       "      <td>101.220001</td>\n",
       "    </tr>\n",
       "    <tr>\n",
       "      <th>1</th>\n",
       "      <td>A</td>\n",
       "      <td>Health Care</td>\n",
       "      <td>Santa Clara, California</td>\n",
       "      <td>1999</td>\n",
       "      <td>2020-10-16</td>\n",
       "      <td>106.699997</td>\n",
       "      <td>1039400</td>\n",
       "      <td>0.0</td>\n",
       "      <td>0.0</td>\n",
       "      <td>1.0</td>\n",
       "      <td>...</td>\n",
       "      <td>105.320000</td>\n",
       "      <td>105.059998</td>\n",
       "      <td>105.419998</td>\n",
       "      <td>105.430000</td>\n",
       "      <td>105.760002</td>\n",
       "      <td>104.160004</td>\n",
       "      <td>103.879997</td>\n",
       "      <td>101.629997</td>\n",
       "      <td>103.120003</td>\n",
       "      <td>100.010002</td>\n",
       "    </tr>\n",
       "    <tr>\n",
       "      <th>2</th>\n",
       "      <td>A</td>\n",
       "      <td>Health Care</td>\n",
       "      <td>Santa Clara, California</td>\n",
       "      <td>1999</td>\n",
       "      <td>2020-10-19</td>\n",
       "      <td>105.489998</td>\n",
       "      <td>636000</td>\n",
       "      <td>0.0</td>\n",
       "      <td>0.0</td>\n",
       "      <td>1.0</td>\n",
       "      <td>...</td>\n",
       "      <td>106.699997</td>\n",
       "      <td>105.320000</td>\n",
       "      <td>105.059998</td>\n",
       "      <td>105.419998</td>\n",
       "      <td>105.430000</td>\n",
       "      <td>105.760002</td>\n",
       "      <td>104.160004</td>\n",
       "      <td>103.879997</td>\n",
       "      <td>101.629997</td>\n",
       "      <td>103.120003</td>\n",
       "    </tr>\n",
       "    <tr>\n",
       "      <th>3</th>\n",
       "      <td>A</td>\n",
       "      <td>Health Care</td>\n",
       "      <td>Santa Clara, California</td>\n",
       "      <td>1999</td>\n",
       "      <td>2020-10-20</td>\n",
       "      <td>105.610001</td>\n",
       "      <td>771000</td>\n",
       "      <td>2.0</td>\n",
       "      <td>0.0</td>\n",
       "      <td>0.0</td>\n",
       "      <td>...</td>\n",
       "      <td>105.489998</td>\n",
       "      <td>106.699997</td>\n",
       "      <td>105.320000</td>\n",
       "      <td>105.059998</td>\n",
       "      <td>105.419998</td>\n",
       "      <td>105.430000</td>\n",
       "      <td>105.760002</td>\n",
       "      <td>104.160004</td>\n",
       "      <td>103.879997</td>\n",
       "      <td>101.629997</td>\n",
       "    </tr>\n",
       "    <tr>\n",
       "      <th>4</th>\n",
       "      <td>A</td>\n",
       "      <td>Health Care</td>\n",
       "      <td>Santa Clara, California</td>\n",
       "      <td>1999</td>\n",
       "      <td>2020-10-21</td>\n",
       "      <td>104.830002</td>\n",
       "      <td>894000</td>\n",
       "      <td>0.0</td>\n",
       "      <td>0.0</td>\n",
       "      <td>0.0</td>\n",
       "      <td>...</td>\n",
       "      <td>105.610001</td>\n",
       "      <td>105.489998</td>\n",
       "      <td>106.699997</td>\n",
       "      <td>105.320000</td>\n",
       "      <td>105.059998</td>\n",
       "      <td>105.419998</td>\n",
       "      <td>105.430000</td>\n",
       "      <td>105.760002</td>\n",
       "      <td>104.160004</td>\n",
       "      <td>103.879997</td>\n",
       "    </tr>\n",
       "  </tbody>\n",
       "</table>\n",
       "<p>5 rows × 31 columns</p>\n",
       "</div>"
      ],
      "text/plain": [
       "  Symbol  GICS Sector    Headquarters Location Founded       Date       Close  \\\n",
       "0      A  Health Care  Santa Clara, California    1999 2020-10-15  105.320000   \n",
       "1      A  Health Care  Santa Clara, California    1999 2020-10-16  106.699997   \n",
       "2      A  Health Care  Santa Clara, California    1999 2020-10-19  105.489998   \n",
       "3      A  Health Care  Santa Clara, California    1999 2020-10-20  105.610001   \n",
       "4      A  Health Care  Santa Clara, California    1999 2020-10-21  104.830002   \n",
       "\n",
       "    Volume  News - Positive Sentiment  News - Negative Sentiment  \\\n",
       "0   723000                        1.0                        0.0   \n",
       "1  1039400                        0.0                        0.0   \n",
       "2   636000                        0.0                        0.0   \n",
       "3   771000                        2.0                        0.0   \n",
       "4   894000                        0.0                        0.0   \n",
       "\n",
       "   News - New Products  ...  Close_lag1  Close_lag2  Close_lag3  Close_lag4  \\\n",
       "0                  0.0  ...  105.059998  105.419998  105.430000  105.760002   \n",
       "1                  1.0  ...  105.320000  105.059998  105.419998  105.430000   \n",
       "2                  1.0  ...  106.699997  105.320000  105.059998  105.419998   \n",
       "3                  0.0  ...  105.489998  106.699997  105.320000  105.059998   \n",
       "4                  0.0  ...  105.610001  105.489998  106.699997  105.320000   \n",
       "\n",
       "   Close_lag5  Close_lag6  Close_lag7  Close_lag8  Close_lag9  Close_lag10  \n",
       "0  104.160004  103.879997  101.629997  103.120003  100.010002   101.220001  \n",
       "1  105.760002  104.160004  103.879997  101.629997  103.120003   100.010002  \n",
       "2  105.430000  105.760002  104.160004  103.879997  101.629997   103.120003  \n",
       "3  105.419998  105.430000  105.760002  104.160004  103.879997   101.629997  \n",
       "4  105.059998  105.419998  105.430000  105.760002  104.160004   103.879997  \n",
       "\n",
       "[5 rows x 31 columns]"
      ]
     },
     "execution_count": 7,
     "metadata": {},
     "output_type": "execute_result"
    }
   ],
   "source": [
    "merged_df['Date'] = pd.to_datetime(merged_df['Date'], format='mixed', dayfirst=True, errors='coerce')\n",
    "\n",
    "merged_df = merged_df.sort_values([\"Symbol\", \"Date\"]) # Order by Symbol and Date \n",
    "\n",
    "lag_window = 10                             \n",
    "for k in range(1, lag_window + 1):\n",
    "    merged_df[f\"Close_lag{k}\"] = (\n",
    "        merged_df.groupby(\"Symbol\")[\"Close\"]\n",
    "          .shift(k)                          # k-day look-back\n",
    "    )\n",
    "\n",
    "lag_cols = [f\"Close_lag{k}\" for k in range(1, lag_window + 1)]\n",
    "merged_df = merged_df.dropna(subset=lag_cols).reset_index(drop=True)\n",
    "\n",
    "merged_df.head()"
   ]
  },
  {
   "cell_type": "code",
   "execution_count": 8,
   "id": "55412ae3",
   "metadata": {},
   "outputs": [
    {
     "data": {
      "text/plain": [
       "Profit\n",
       "1    109036\n",
       "0    103332\n",
       "Name: count, dtype: int64"
      ]
     },
     "execution_count": 8,
     "metadata": {},
     "output_type": "execute_result"
    }
   ],
   "source": [
    "# Change to classification problem\n",
    "merged_df['Profit'] = (merged_df['Close'] > merged_df['Close_lag1']).astype(int)\n",
    "\n",
    "merged_df['Profit'].value_counts()"
   ]
  },
  {
   "cell_type": "code",
   "execution_count": 9,
   "id": "87bf686b",
   "metadata": {},
   "outputs": [],
   "source": [
    "# Save the merged DataFrame to a new CSV file\n",
    "merged_df.to_csv('../Data/merged.csv', index=False)"
   ]
  }
 ],
 "metadata": {
  "kernelspec": {
   "display_name": "GPU",
   "language": "python",
   "name": "python3"
  },
  "language_info": {
   "codemirror_mode": {
    "name": "ipython",
    "version": 3
   },
   "file_extension": ".py",
   "mimetype": "text/x-python",
   "name": "python",
   "nbconvert_exporter": "python",
   "pygments_lexer": "ipython3",
   "version": "3.10.16"
  }
 },
 "nbformat": 4,
 "nbformat_minor": 5
}
