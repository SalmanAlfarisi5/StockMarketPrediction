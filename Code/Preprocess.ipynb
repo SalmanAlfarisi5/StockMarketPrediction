{
 "cells": [
  {
   "cell_type": "code",
   "execution_count": 32,
   "id": "8def94f3",
   "metadata": {},
   "outputs": [],
   "source": [
    "# Import necessary libraries\n",
    "import pandas as pd\n",
    "from datetime import datetime"
   ]
  },
  {
   "cell_type": "code",
   "execution_count": 33,
   "id": "c4663dd3",
   "metadata": {},
   "outputs": [
    {
     "name": "stdout",
     "output_type": "stream",
     "text": [
      "Company data shape: (524, 4)\n",
      "Stock data shape: (217811, 18)\n"
     ]
    }
   ],
   "source": [
    "# Read the CSV files into DataFrames\n",
    "company_df = pd.read_csv('../Data/company_info.csv')\n",
    "stock_df = pd.read_csv('../Data/company_stock_details.csv')\n",
    "\n",
    "print(f\"Company data shape: {company_df.shape}\")\n",
    "print(f\"Stock data shape: {stock_df.shape}\")"
   ]
  },
  {
   "cell_type": "code",
   "execution_count": 34,
   "id": "4d73ecd2",
   "metadata": {},
   "outputs": [
    {
     "name": "stdout",
     "output_type": "stream",
     "text": [
      "Number of rows in company with missing data: 0\n",
      "Number of rows in stock with missing data: 493\n",
      "Stock data shape after dropping missing rows: (217318, 18)\n"
     ]
    }
   ],
   "source": [
    "missing_company = company_df.isnull().any(axis=1).sum()\n",
    "print(f\"Number of rows in company with missing data: {missing_company}\")\n",
    "\n",
    "missing_stock = stock_df.isnull().any(axis=1).sum()\n",
    "print(f\"Number of rows in stock with missing data: {missing_stock}\")\n",
    "\n",
    "# Since the number of rows with missing data is small, we can drop them\n",
    "stock_df = stock_df.dropna()\n",
    "\n",
    "# confirming the number of rows after dropping missing data\n",
    "print(f\"Stock data shape after dropping missing rows: {stock_df.shape}\")"
   ]
  },
  {
   "cell_type": "code",
   "execution_count": 35,
   "id": "3be369a4",
   "metadata": {},
   "outputs": [
    {
     "name": "stdout",
     "output_type": "stream",
     "text": [
      "Symbol\n",
      "MMM     440\n",
      "NRG     440\n",
      "NLOK    440\n",
      "NOC     440\n",
      "NTRS    440\n",
      "       ... \n",
      "EMN     440\n",
      "DXC     440\n",
      "DD      440\n",
      "OGN     285\n",
      "CEG     113\n",
      "Name: count, Length: 495, dtype: int64\n",
      "Number of unique companies in company DataFrame: 497\n"
     ]
    }
   ],
   "source": [
    "# Count the number of unique companies with the frequencies of their stock data\n",
    "print(stock_df['Symbol'].value_counts())\n",
    "# Count the number of unique companies in the company DataFrame\n",
    "print(f\"Number of unique companies in company DataFrame: {company_df['Symbol'].nunique()}\")"
   ]
  },
  {
   "cell_type": "code",
   "execution_count": 36,
   "id": "cc6ad2cb",
   "metadata": {},
   "outputs": [
    {
     "name": "stdout",
     "output_type": "stream",
     "text": [
      "Merged DataFrame shape: (229198, 21)\n",
      "Number of rows in merged DataFrame with missing data: 0\n"
     ]
    }
   ],
   "source": [
    "# Let's merge the two DataFrames on the 'Symbol' column\n",
    "merged_df = pd.merge(company_df, stock_df, on='Symbol', how='inner')\n",
    "\n",
    "# check the shape of the merged DataFrame\n",
    "print(f\"Merged DataFrame shape: {merged_df.shape}\")\n",
    "\n",
    "# check for missing values in the merged DataFrame\n",
    "missing_merged = merged_df.isnull().any(axis=1).sum()\n",
    "print(f\"Number of rows in merged DataFrame with missing data: {missing_merged}\")\n",
    "\n",
    "# Remove duplicate rows\n",
    "merged_df = merged_df.drop_duplicates()"
   ]
  },
  {
   "cell_type": "code",
   "execution_count": 37,
   "id": "401b640b",
   "metadata": {},
   "outputs": [
    {
     "name": "stdout",
     "output_type": "stream",
     "text": [
      "Date\n",
      "%d/%m/%Y    217318\n",
      "Name: count, dtype: int64\n"
     ]
    }
   ],
   "source": [
    "def detect_format(date_str):\n",
    "    # Try a list of common formats\n",
    "    formats = [\n",
    "        \"%Y-%m-%d\", \"%d-%m-%Y\", \"%m-%d-%Y\",\n",
    "        \"%d/%m/%Y\", \"%m/%d/%Y\", \"%Y/%m/%d\",\n",
    "        \"%Y.%m.%d\", \"%d.%m.%Y\", \"%m.%d.%Y\"\n",
    "    ]\n",
    "    for fmt in formats:\n",
    "        try:\n",
    "            datetime.strptime(date_str, fmt)\n",
    "            return fmt\n",
    "        except ValueError:\n",
    "            continue\n",
    "    return \"Unknown format\"\n",
    "\n",
    "# Ensure all entries are strings\n",
    "date_strings = merged_df['Date'].dropna()\n",
    "\n",
    "# Apply format detection and count\n",
    "format_counts = date_strings.apply(detect_format).value_counts()\n",
    "\n",
    "# Display the result\n",
    "print(format_counts)"
   ]
  },
  {
   "cell_type": "code",
   "execution_count": 38,
   "id": "87bf686b",
   "metadata": {},
   "outputs": [],
   "source": [
    "# Save the merged DataFrame to a new CSV file\n",
    "merged_df.to_csv('../Data/merged.csv', index=False)"
   ]
  }
 ],
 "metadata": {
  "kernelspec": {
   "display_name": "GPU",
   "language": "python",
   "name": "python3"
  },
  "language_info": {
   "codemirror_mode": {
    "name": "ipython",
    "version": 3
   },
   "file_extension": ".py",
   "mimetype": "text/x-python",
   "name": "python",
   "nbconvert_exporter": "python",
   "pygments_lexer": "ipython3",
   "version": "3.10.16"
  }
 },
 "nbformat": 4,
 "nbformat_minor": 5
}
